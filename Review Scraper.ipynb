{
 "cells": [
  {
   "cell_type": "code",
   "execution_count": null,
   "id": "a96ad8eb",
   "metadata": {},
   "outputs": [],
   "source": [
    "pip install google_play_scraper"
   ]
  },
  {
   "cell_type": "code",
   "execution_count": null,
   "id": "aaa05d29",
   "metadata": {},
   "outputs": [],
   "source": [
    "from google_play_scraper import app\n",
    "import pandas as pd\n",
    "import numpy as np"
   ]
  },
  {
   "cell_type": "code",
   "execution_count": null,
   "id": "1c707207",
   "metadata": {},
   "outputs": [],
   "source": [
    "#KE market\n",
    "from google_play_scraper import Sort, reviews_all\n",
    "ke_reviews = reviews_all('com.twitter.android',\n",
    "                        sleep_milliseconds=0,# defaults to 0\n",
    "                        lang='en',# defaults to 'en'\n",
    "                         country='ke', # defaults to 'ke'\n",
    "                         sort=Sort.NEWEST, # defaults to Sort.MOST_RELEVANT\n",
    "                        )"
   ]
  },
  {
   "cell_type": "code",
   "execution_count": null,
   "id": "174702d8",
   "metadata": {},
   "outputs": [],
   "source": [
    "df = pd.DataFrame(np.array(ke_reviews),\n",
    "            columns=['review'])\n",
    "\n",
    "df = df.join(pd.DataFrame(df.pop('review').tolist()))\n",
    "\n",
    "df.head()"
   ]
  },
  {
   "cell_type": "code",
   "execution_count": null,
   "id": "e18c8a3a",
   "metadata": {},
   "outputs": [],
   "source": [
    "df.to_csv('C:\\Files/Tweera Reviews.csv')"
   ]
  },
  {
   "cell_type": "code",
   "execution_count": null,
   "id": "a52ddece",
   "metadata": {},
   "outputs": [],
   "source": []
  }
 ],
 "metadata": {
  "kernelspec": {
   "display_name": "Python 3",
   "language": "python",
   "name": "python3"
  },
  "language_info": {
   "codemirror_mode": {
    "name": "ipython",
    "version": 3
   },
   "file_extension": ".py",
   "mimetype": "text/x-python",
   "name": "python",
   "nbconvert_exporter": "python",
   "pygments_lexer": "ipython3",
   "version": "3.8.8"
  }
 },
 "nbformat": 4,
 "nbformat_minor": 5
}
